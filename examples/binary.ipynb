{
 "cells": [
  {
   "cell_type": "markdown",
   "metadata": {},
   "source": [
    "# ProFlow: Бинарная классификация"
   ]
  },
  {
   "cell_type": "code",
   "execution_count": 22,
   "metadata": {},
   "outputs": [],
   "source": [
    "# Root directory input\n",
    "import sys\n",
    "sys.path.append('../')\n",
    "\n",
    "# Imports\n",
    "from proflow.data.data_loader import DataLoader\n",
    "from proflow.automl.tabular_tasks import FlowML\n",
    "\n",
    "%reload_ext autoreload"
   ]
  },
  {
   "cell_type": "code",
   "execution_count": 24,
   "metadata": {},
   "outputs": [
    {
     "name": "stdout",
     "output_type": "stream",
     "text": [
      "+-----------+-----------+-----------+\n",
      "| Partition | [0]_shape | [1]_shape |\n",
      "+-----------+-----------+-----------+\n",
      "|  train_df |   350000  |     3     |\n",
      "|  test_df  |   75000   |     3     |\n",
      "|  valid_df |   75000   |     3     |\n",
      "+-----------+-----------+-----------+\n",
      "         priority  weight  label\n",
      "1118834    7503.0    29.0      0\n",
      "4105960    7503.0    47.0      0\n",
      "2014876    7503.0   188.0      0\n",
      "1486082    7503.0   184.0      0\n",
      "4713763    7504.0   204.0      0\n"
     ]
    }
   ],
   "source": [
    "loader = DataLoader()\n",
    "train_df, test_df, valid_df = loader.data_load(\n",
    "    df_dir=\"../../../datasets/pochta_rf/train_dataset.csv\",\n",
    "    split_partitions=3,\n",
    "    data_imputer=True,\n",
    ")"
   ]
  },
  {
   "cell_type": "code",
   "execution_count": 25,
   "metadata": {},
   "outputs": [
    {
     "name": "stdout",
     "output_type": "stream",
     "text": [
      "BinaryTabularModels: dict_keys(['LogisticRegression', 'SGDClassifier'])\n"
     ]
    }
   ],
   "source": [
    "flowml = FlowML(\n",
    "    task=\"binary\"\n",
    ")\n",
    "\n",
    "flowml.fit(\n",
    "    train_df, \n",
    "    test_df,\n",
    "    label=\"label\",\n",
    ")"
   ]
  },
  {
   "cell_type": "code",
   "execution_count": null,
   "metadata": {},
   "outputs": [],
   "source": []
  }
 ],
 "metadata": {
  "kernelspec": {
   "display_name": "Python 3.8.10 ('proflow')",
   "language": "python",
   "name": "python3"
  },
  "language_info": {
   "codemirror_mode": {
    "name": "ipython",
    "version": 3
   },
   "file_extension": ".py",
   "mimetype": "text/x-python",
   "name": "python",
   "nbconvert_exporter": "python",
   "pygments_lexer": "ipython3",
   "version": "3.8.10"
  },
  "orig_nbformat": 4,
  "vscode": {
   "interpreter": {
    "hash": "f09800b36e86f400344474c9fc13039b3f84a653ae5ce28f5eb90d985e520a95"
   }
  }
 },
 "nbformat": 4,
 "nbformat_minor": 2
}
