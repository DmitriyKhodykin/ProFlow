{
 "cells": [
  {
   "cell_type": "markdown",
   "metadata": {},
   "source": [
    "# ProFlow: Бинарная классификация"
   ]
  },
  {
   "cell_type": "code",
   "execution_count": 1,
   "metadata": {},
   "outputs": [],
   "source": [
    "# Root directory input\n",
    "import sys\n",
    "sys.path.append('../')\n",
    "\n",
    "# Imports\n",
    "from proflow.data.data_loader import DataLoader\n",
    "from proflow.automl.tabular_tasks import FlowML\n",
    "\n",
    "%load_ext autoreload\n",
    "%autoreload 2"
   ]
  },
  {
   "cell_type": "code",
   "execution_count": 5,
   "metadata": {},
   "outputs": [
    {
     "name": "stdout",
     "output_type": "stream",
     "text": [
      "+-----------+-----------+-----------+\n",
      "| Partition | [0]_shape | [1]_shape |\n",
      "+-----------+-----------+-----------+\n",
      "|  train_df |   350000  |     29    |\n",
      "|  test_df  |   75000   |     29    |\n",
      "|  valid_df |   75000   |     29    |\n",
      "+-----------+-----------+-----------+\n",
      "              id oper_type + oper_attr index_oper     type  priority  \\\n",
      "5990322  9459646               1018_-1     102971      Цех    7506.0   \n",
      "860605   4867300               1014_-1     102976     ММПО    7503.0   \n",
      "2877220  6571732               1042_-1     630509  Участок    7503.0   \n",
      "1872991  1097838               1004_-1     620984  Участок    7503.0   \n",
      "3671368   357571               1022_-1     140978  Участок    7503.0   \n",
      "\n",
      "        is_privatecategory  class is_in_yandex is_return  weight  ...  \\\n",
      "5990322                  N    0.0            N         N    42.0  ...   \n",
      "860605                   N    0.0            N         N    40.0  ...   \n",
      "2877220                  N    0.0            N         N   488.0  ...   \n",
      "1872991                  N    0.0            N         N   117.0  ...   \n",
      "3671368                  N    0.0            Y         N  1050.0  ...   \n",
      "\n",
      "         dist_qty_oper_login_1  total_qty_oper_login_1  \\\n",
      "5990322                  186.0              60613352.0   \n",
      "860605                   914.0              48856658.0   \n",
      "2877220                    5.0                149194.0   \n",
      "1872991                   27.0               9164121.0   \n",
      "3671368                   93.0               3050196.0   \n",
      "\n",
      "         total_qty_oper_login_0  total_qty_over_index_and_type  \\\n",
      "5990322                 10648.0                     60624000.0   \n",
      "860605               83318932.0                    132175590.0   \n",
      "2877220                 22270.0                       171464.0   \n",
      "1872991               4770841.0                     13934962.0   \n",
      "3671368                  3834.0                      3054030.0   \n",
      "\n",
      "         total_qty_over_index  is_wrong_sndr_name is_wrong_rcpn_name  \\\n",
      "5990322            75592387.0                   0                  0   \n",
      "860605            136819803.0                   0                  0   \n",
      "2877220             1674531.0                   0                  1   \n",
      "1872991            14030822.0                   0                  0   \n",
      "3671368            11668605.0                   0                  0   \n",
      "\n",
      "         is_wrong_phone_number  is_wrong_address  label  \n",
      "5990322                      0                 0      0  \n",
      "860605                       0                 0      0  \n",
      "2877220                      0                 0      0  \n",
      "1872991                      0                 0      0  \n",
      "3671368                      0                 0      0  \n",
      "\n",
      "[5 rows x 29 columns]\n"
     ]
    }
   ],
   "source": [
    "loader = DataLoader()\n",
    "train_df, test_df, valid_df = loader.data_load(\n",
    "    df_dir=\"../../../datasets/pochta_rf/train_dataset.csv\",\n",
    "    split_partitions=3,\n",
    "    data_imputer=True,\n",
    ")"
   ]
  },
  {
   "cell_type": "code",
   "execution_count": 5,
   "metadata": {},
   "outputs": [],
   "source": [
    "flowml = FlowML(\n",
    "    task=\"binary\"\n",
    ")\n",
    "\n",
    "flowml.fit(\n",
    "    train_df, \n",
    "    test_df,\n",
    "    label=\"label\",\n",
    ")\n",
    "\n",
    "flowml.print_score()"
   ]
  },
  {
   "cell_type": "code",
   "execution_count": null,
   "metadata": {},
   "outputs": [],
   "source": []
  }
 ],
 "metadata": {
  "kernelspec": {
   "display_name": "Python 3.8.10 ('proflow')",
   "language": "python",
   "name": "python3"
  },
  "language_info": {
   "codemirror_mode": {
    "name": "ipython",
    "version": 3
   },
   "file_extension": ".py",
   "mimetype": "text/x-python",
   "name": "python",
   "nbconvert_exporter": "python",
   "pygments_lexer": "ipython3",
   "version": "3.8.10"
  },
  "orig_nbformat": 4,
  "vscode": {
   "interpreter": {
    "hash": "f09800b36e86f400344474c9fc13039b3f84a653ae5ce28f5eb90d985e520a95"
   }
  }
 },
 "nbformat": 4,
 "nbformat_minor": 2
}
