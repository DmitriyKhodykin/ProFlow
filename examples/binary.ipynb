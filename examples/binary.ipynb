{
 "cells": [
  {
   "cell_type": "markdown",
   "metadata": {},
   "source": [
    "# ProFlow: Бинарная классификация"
   ]
  },
  {
   "cell_type": "code",
   "execution_count": 2,
   "metadata": {},
   "outputs": [],
   "source": [
    "# Root directory input\n",
    "import sys\n",
    "sys.path.append('../')\n",
    "\n",
    "# Imports\n",
    "from proflow.data.data_loader import DataLoader\n",
    "from proflow.automl.tabular_tasks import FlowML\n",
    "\n",
    "from proflow.data.data_processor import DataProcessor\n",
    "\n",
    "%load_ext autoreload\n",
    "%autoreload 2"
   ]
  },
  {
   "cell_type": "markdown",
   "metadata": {},
   "source": [
    "## Load data"
   ]
  },
  {
   "cell_type": "code",
   "execution_count": 3,
   "metadata": {},
   "outputs": [
    {
     "name": "stdout",
     "output_type": "stream",
     "text": [
      "+-----------+-----------+-----------+\n",
      "| Partition | [0]_shape | [1]_shape |\n",
      "+-----------+-----------+-----------+\n",
      "|  train_df |   35000   |     29    |\n",
      "|  test_df  |   15000   |     29    |\n",
      "+-----------+-----------+-----------+\n",
      "              id oper_type + oper_attr index_oper     type  priority  \\\n",
      "1325012  9478222               1041_-1     140980      Цех    7503.0   \n",
      "1504753  9457655               1019_-1     108978  Участок    7506.0   \n",
      "4263317  6403950               1022_-1     163960      МСЦ    7503.0   \n",
      "1648576  9198874               1020_-1     363750        П    7503.0   \n",
      "1477095  1274433               1041_-1     102971      Цех    7506.0   \n",
      "\n",
      "        is_privatecategory  class is_in_yandex is_return  weight  ...  \\\n",
      "1325012                  N    0.0            Y         N    48.0  ...   \n",
      "1504753                  N    0.0            N         N    87.0  ...   \n",
      "4263317                  N    0.0            Y         N   387.0  ...   \n",
      "1648576                  N    3.0            Y         N   135.0  ...   \n",
      "1477095                  N    0.0            N         N    56.0  ...   \n",
      "\n",
      "         dist_qty_oper_login_1  total_qty_oper_login_1  \\\n",
      "1325012                  118.0              16458125.0   \n",
      "1504753                  207.0               3179099.0   \n",
      "4263317                   71.0               1852521.0   \n",
      "1648576                    4.0                 36127.0   \n",
      "1477095                  184.0              67541214.0   \n",
      "\n",
      "         total_qty_oper_login_0  total_qty_over_index_and_type  \\\n",
      "1325012                 30726.0                     16488851.0   \n",
      "1504753                745175.0                      3924274.0   \n",
      "4263317                169531.0                      2022052.0   \n",
      "1648576                 38699.0                        74826.0   \n",
      "1477095                  7870.0                     67549084.0   \n",
      "\n",
      "         total_qty_over_index  is_wrong_sndr_name is_wrong_rcpn_name  \\\n",
      "1325012           205566092.0                   0                  0   \n",
      "1504753            23580162.0                   0                  0   \n",
      "4263317            19494424.0                   0                  0   \n",
      "1648576              745756.0                   0                  0   \n",
      "1477095            72981134.0                   0                  0   \n",
      "\n",
      "         is_wrong_phone_number  is_wrong_address  label  \n",
      "1325012                      1                 0      0  \n",
      "1504753                      0                 0      0  \n",
      "4263317                      0                 0      0  \n",
      "1648576                      0                 0      0  \n",
      "1477095                      0                 0      0  \n",
      "\n",
      "[5 rows x 29 columns]\n"
     ]
    }
   ],
   "source": [
    "loader = DataLoader(\n",
    "    df_dir=\"../../../datasets/pochta_rf/train_dataset.csv\",\n",
    "    dtype={\"index_oper\": \"str\"},\n",
    "    label=\"label\",\n",
    ")\n",
    "\n",
    "train_df, test_df = loader.data_load()"
   ]
  },
  {
   "cell_type": "markdown",
   "metadata": {},
   "source": [
    "## Prepare data"
   ]
  },
  {
   "cell_type": "code",
   "execution_count": 4,
   "metadata": {},
   "outputs": [
    {
     "name": "stdout",
     "output_type": "stream",
     "text": [
      "oper_type + oper_attr type: object\n",
      "index_oper type: object\n",
      "type type: object\n",
      "is_privatecategory type: object\n",
      "is_in_yandex type: object\n",
      "is_return type: object\n",
      "name_mfi type: object\n",
      "oper_type + oper_attr type: object\n",
      "index_oper type: object\n",
      "type type: object\n",
      "is_privatecategory type: object\n",
      "is_in_yandex type: object\n",
      "is_return type: object\n",
      "name_mfi type: object\n"
     ]
    }
   ],
   "source": [
    "# Data Processing\n",
    "train_pdp = DataProcessor(train_df)\n",
    "test_pdp = DataProcessor(test_df)\n",
    "\n",
    "train_df_prepared = train_pdp._text_cols_to_hashed_cols()\n",
    "test_df_prepared = test_pdp._text_cols_to_hashed_cols()"
   ]
  },
  {
   "cell_type": "code",
   "execution_count": 5,
   "metadata": {},
   "outputs": [
    {
     "name": "stdout",
     "output_type": "stream",
     "text": [
      "Train Shape: (35000, 29) Train Shape: (15000, 29)\n"
     ]
    }
   ],
   "source": [
    "print(\n",
    "    \"Train Shape:\", train_df_prepared.shape,\n",
    "    \"Train Shape:\", test_df_prepared.shape,\n",
    ")"
   ]
  },
  {
   "cell_type": "code",
   "execution_count": 6,
   "metadata": {},
   "outputs": [
    {
     "data": {
      "text/html": [
       "<div>\n",
       "<style scoped>\n",
       "    .dataframe tbody tr th:only-of-type {\n",
       "        vertical-align: middle;\n",
       "    }\n",
       "\n",
       "    .dataframe tbody tr th {\n",
       "        vertical-align: top;\n",
       "    }\n",
       "\n",
       "    .dataframe thead th {\n",
       "        text-align: right;\n",
       "    }\n",
       "</style>\n",
       "<table border=\"1\" class=\"dataframe\">\n",
       "  <thead>\n",
       "    <tr style=\"text-align: right;\">\n",
       "      <th></th>\n",
       "      <th>id</th>\n",
       "      <th>oper_type + oper_attr</th>\n",
       "      <th>index_oper</th>\n",
       "      <th>type</th>\n",
       "      <th>priority</th>\n",
       "      <th>is_privatecategory</th>\n",
       "      <th>class</th>\n",
       "      <th>is_in_yandex</th>\n",
       "      <th>is_return</th>\n",
       "      <th>weight</th>\n",
       "      <th>...</th>\n",
       "      <th>dist_qty_oper_login_1</th>\n",
       "      <th>total_qty_oper_login_1</th>\n",
       "      <th>total_qty_oper_login_0</th>\n",
       "      <th>total_qty_over_index_and_type</th>\n",
       "      <th>total_qty_over_index</th>\n",
       "      <th>is_wrong_sndr_name</th>\n",
       "      <th>is_wrong_rcpn_name</th>\n",
       "      <th>is_wrong_phone_number</th>\n",
       "      <th>is_wrong_address</th>\n",
       "      <th>label</th>\n",
       "    </tr>\n",
       "  </thead>\n",
       "  <tbody>\n",
       "    <tr>\n",
       "      <th>1325012</th>\n",
       "      <td>9478222</td>\n",
       "      <td>32</td>\n",
       "      <td>13</td>\n",
       "      <td>57</td>\n",
       "      <td>7503.0</td>\n",
       "      <td>78</td>\n",
       "      <td>0.0</td>\n",
       "      <td>55</td>\n",
       "      <td>78</td>\n",
       "      <td>48.0</td>\n",
       "      <td>...</td>\n",
       "      <td>118.0</td>\n",
       "      <td>16458125.0</td>\n",
       "      <td>30726.0</td>\n",
       "      <td>16488851.0</td>\n",
       "      <td>205566092.0</td>\n",
       "      <td>0</td>\n",
       "      <td>0</td>\n",
       "      <td>1</td>\n",
       "      <td>0</td>\n",
       "      <td>0</td>\n",
       "    </tr>\n",
       "    <tr>\n",
       "      <th>1504753</th>\n",
       "      <td>9457655</td>\n",
       "      <td>5</td>\n",
       "      <td>54</td>\n",
       "      <td>80</td>\n",
       "      <td>7506.0</td>\n",
       "      <td>78</td>\n",
       "      <td>0.0</td>\n",
       "      <td>78</td>\n",
       "      <td>78</td>\n",
       "      <td>87.0</td>\n",
       "      <td>...</td>\n",
       "      <td>207.0</td>\n",
       "      <td>3179099.0</td>\n",
       "      <td>745175.0</td>\n",
       "      <td>3924274.0</td>\n",
       "      <td>23580162.0</td>\n",
       "      <td>0</td>\n",
       "      <td>0</td>\n",
       "      <td>0</td>\n",
       "      <td>0</td>\n",
       "      <td>0</td>\n",
       "    </tr>\n",
       "    <tr>\n",
       "      <th>4263317</th>\n",
       "      <td>6403950</td>\n",
       "      <td>20</td>\n",
       "      <td>25</td>\n",
       "      <td>56</td>\n",
       "      <td>7503.0</td>\n",
       "      <td>78</td>\n",
       "      <td>0.0</td>\n",
       "      <td>55</td>\n",
       "      <td>78</td>\n",
       "      <td>387.0</td>\n",
       "      <td>...</td>\n",
       "      <td>71.0</td>\n",
       "      <td>1852521.0</td>\n",
       "      <td>169531.0</td>\n",
       "      <td>2022052.0</td>\n",
       "      <td>19494424.0</td>\n",
       "      <td>0</td>\n",
       "      <td>0</td>\n",
       "      <td>0</td>\n",
       "      <td>0</td>\n",
       "      <td>0</td>\n",
       "    </tr>\n",
       "    <tr>\n",
       "      <th>1648576</th>\n",
       "      <td>9198874</td>\n",
       "      <td>90</td>\n",
       "      <td>20</td>\n",
       "      <td>22</td>\n",
       "      <td>7503.0</td>\n",
       "      <td>78</td>\n",
       "      <td>3.0</td>\n",
       "      <td>55</td>\n",
       "      <td>78</td>\n",
       "      <td>135.0</td>\n",
       "      <td>...</td>\n",
       "      <td>4.0</td>\n",
       "      <td>36127.0</td>\n",
       "      <td>38699.0</td>\n",
       "      <td>74826.0</td>\n",
       "      <td>745756.0</td>\n",
       "      <td>0</td>\n",
       "      <td>0</td>\n",
       "      <td>0</td>\n",
       "      <td>0</td>\n",
       "      <td>0</td>\n",
       "    </tr>\n",
       "    <tr>\n",
       "      <th>1477095</th>\n",
       "      <td>1274433</td>\n",
       "      <td>32</td>\n",
       "      <td>34</td>\n",
       "      <td>57</td>\n",
       "      <td>7506.0</td>\n",
       "      <td>78</td>\n",
       "      <td>0.0</td>\n",
       "      <td>78</td>\n",
       "      <td>78</td>\n",
       "      <td>56.0</td>\n",
       "      <td>...</td>\n",
       "      <td>184.0</td>\n",
       "      <td>67541214.0</td>\n",
       "      <td>7870.0</td>\n",
       "      <td>67549084.0</td>\n",
       "      <td>72981134.0</td>\n",
       "      <td>0</td>\n",
       "      <td>0</td>\n",
       "      <td>0</td>\n",
       "      <td>0</td>\n",
       "      <td>0</td>\n",
       "    </tr>\n",
       "  </tbody>\n",
       "</table>\n",
       "<p>5 rows × 29 columns</p>\n",
       "</div>"
      ],
      "text/plain": [
       "              id  oper_type + oper_attr  index_oper  type  priority  \\\n",
       "1325012  9478222                     32          13    57    7503.0   \n",
       "1504753  9457655                      5          54    80    7506.0   \n",
       "4263317  6403950                     20          25    56    7503.0   \n",
       "1648576  9198874                     90          20    22    7503.0   \n",
       "1477095  1274433                     32          34    57    7506.0   \n",
       "\n",
       "         is_privatecategory  class  is_in_yandex  is_return  weight  ...  \\\n",
       "1325012                  78    0.0            55         78    48.0  ...   \n",
       "1504753                  78    0.0            78         78    87.0  ...   \n",
       "4263317                  78    0.0            55         78   387.0  ...   \n",
       "1648576                  78    3.0            55         78   135.0  ...   \n",
       "1477095                  78    0.0            78         78    56.0  ...   \n",
       "\n",
       "         dist_qty_oper_login_1  total_qty_oper_login_1  \\\n",
       "1325012                  118.0              16458125.0   \n",
       "1504753                  207.0               3179099.0   \n",
       "4263317                   71.0               1852521.0   \n",
       "1648576                    4.0                 36127.0   \n",
       "1477095                  184.0              67541214.0   \n",
       "\n",
       "         total_qty_oper_login_0  total_qty_over_index_and_type  \\\n",
       "1325012                 30726.0                     16488851.0   \n",
       "1504753                745175.0                      3924274.0   \n",
       "4263317                169531.0                      2022052.0   \n",
       "1648576                 38699.0                        74826.0   \n",
       "1477095                  7870.0                     67549084.0   \n",
       "\n",
       "         total_qty_over_index  is_wrong_sndr_name  is_wrong_rcpn_name  \\\n",
       "1325012           205566092.0                   0                   0   \n",
       "1504753            23580162.0                   0                   0   \n",
       "4263317            19494424.0                   0                   0   \n",
       "1648576              745756.0                   0                   0   \n",
       "1477095            72981134.0                   0                   0   \n",
       "\n",
       "         is_wrong_phone_number  is_wrong_address  label  \n",
       "1325012                      1                 0      0  \n",
       "1504753                      0                 0      0  \n",
       "4263317                      0                 0      0  \n",
       "1648576                      0                 0      0  \n",
       "1477095                      0                 0      0  \n",
       "\n",
       "[5 rows x 29 columns]"
      ]
     },
     "execution_count": 6,
     "metadata": {},
     "output_type": "execute_result"
    }
   ],
   "source": [
    "train_df_prepared.head()"
   ]
  },
  {
   "cell_type": "markdown",
   "metadata": {},
   "source": [
    "## Fit model"
   ]
  },
  {
   "cell_type": "code",
   "execution_count": 15,
   "metadata": {},
   "outputs": [
    {
     "name": "stdout",
     "output_type": "stream",
     "text": [
      "BinaryTabularModels: dict_keys(['LogisticRegression', 'SGDClassifier'])\n"
     ]
    }
   ],
   "source": [
    "flowml = FlowML(\n",
    "    task=\"binary\"\n",
    ")\n",
    "\n",
    "flowml.fit(\n",
    "    train_df=train_df_prepared, \n",
    "    label=\"label\",\n",
    ")"
   ]
  },
  {
   "cell_type": "code",
   "execution_count": 16,
   "metadata": {},
   "outputs": [],
   "source": [
    "flowml.predict(\n",
    "    test_df_prepared,\n",
    ")"
   ]
  },
  {
   "cell_type": "code",
   "execution_count": null,
   "metadata": {},
   "outputs": [],
   "source": []
  }
 ],
 "metadata": {
  "kernelspec": {
   "display_name": "Python 3.8.10 ('proflow')",
   "language": "python",
   "name": "python3"
  },
  "language_info": {
   "codemirror_mode": {
    "name": "ipython",
    "version": 3
   },
   "file_extension": ".py",
   "mimetype": "text/x-python",
   "name": "python",
   "nbconvert_exporter": "python",
   "pygments_lexer": "ipython3",
   "version": "3.8.10"
  },
  "orig_nbformat": 4,
  "vscode": {
   "interpreter": {
    "hash": "f09800b36e86f400344474c9fc13039b3f84a653ae5ce28f5eb90d985e520a95"
   }
  }
 },
 "nbformat": 4,
 "nbformat_minor": 2
}
