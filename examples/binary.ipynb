{
 "cells": [
  {
   "cell_type": "markdown",
   "metadata": {},
   "source": [
    "# ProFlow: Бинарная классификация"
   ]
  },
  {
   "cell_type": "code",
   "execution_count": 1,
   "metadata": {},
   "outputs": [],
   "source": [
    "# Root directory input\n",
    "import sys\n",
    "sys.path.append('../')\n",
    "\n",
    "# Imports\n",
    "from proflow.data.data_loader import DataLoader\n",
    "from proflow.automl.tabular_tasks import FlowML\n",
    "\n",
    "%reload_ext autoreload"
   ]
  },
  {
   "cell_type": "code",
   "execution_count": 2,
   "metadata": {},
   "outputs": [
    {
     "name": "stdout",
     "output_type": "stream",
     "text": [
      "+------------------+-----------+-----------+\n",
      "|    Partition     | [0]_shape | [1]_shape |\n",
      "+------------------+-----------+-----------+\n",
      "|     train_df     |   35000   |     29    |\n",
      "|     test_df      |   15000   |     29    |\n",
      "| train_df_imputed |   35000   |     29    |\n",
      "| test_df_imputed  |   15000   |     29    |\n",
      "+------------------+-----------+-----------+\n",
      "              id oper_type + oper_attr index_oper  type  priority  \\\n",
      "2439414  3168190               1042_-1     630872   Цех    7503.0   \n",
      "1539470  7554392                 11_-1     102976  ММПО    7503.0   \n",
      "5599620  6159454               1019_-1     672049  ГОПС    7504.0   \n",
      "27122     700900                   8_6     102976  ММПО    7503.0   \n",
      "1767587  1407525                   2_1     115404  ГОПС    7503.0   \n",
      "\n",
      "        is_privatecategory  class is_in_yandex is_return  weight  ...  \\\n",
      "2439414                  N    0.0            N         N    73.0  ...   \n",
      "1539470                  N    0.0            N         N   701.0  ...   \n",
      "5599620                  N    3.0            Y         N   929.0  ...   \n",
      "27122                    N    0.0            N         N   801.0  ...   \n",
      "1767587                  N    3.0            Y         N   311.0  ...   \n",
      "\n",
      "         dist_qty_oper_login_1  total_qty_oper_login_1  \\\n",
      "2439414                   50.0               7981096.0   \n",
      "1539470                  910.0              55549307.0   \n",
      "5599620                    5.0                 28730.0   \n",
      "27122                    914.0              48856658.0   \n",
      "1767587                   27.0                233628.0   \n",
      "\n",
      "         total_qty_oper_login_0  total_qty_over_index_and_type  \\\n",
      "2439414               5446366.0                     13427462.0   \n",
      "1539470              88774964.0                    144324271.0   \n",
      "5599620                  3877.0                        32607.0   \n",
      "27122                83318932.0                    132175590.0   \n",
      "1767587                 12973.0                       246601.0   \n",
      "\n",
      "         total_qty_over_index  is_wrong_sndr_name is_wrong_rcpn_name  \\\n",
      "2439414            13504054.0                   0                  0   \n",
      "1539470           149073880.0                   0                  0   \n",
      "5599620              150256.0                   0                  0   \n",
      "27122             136819803.0                   0                  1   \n",
      "1767587             3424391.0                   0                  1   \n",
      "\n",
      "         is_wrong_phone_number  is_wrong_address  label  \n",
      "2439414                      0                 0      0  \n",
      "1539470                      0                 0      0  \n",
      "5599620                      0                 0      0  \n",
      "27122                        0                 0      0  \n",
      "1767587                      0                 0      0  \n",
      "\n",
      "[5 rows x 29 columns]\n"
     ]
    }
   ],
   "source": [
    "loader = DataLoader(\n",
    "    df_dir=\"../../../datasets/pochta_rf/train_dataset.csv\",\n",
    "    label=\"label\",\n",
    ")\n",
    "\n",
    "train_df, test_df = loader.data_load()"
   ]
  },
  {
   "cell_type": "code",
   "execution_count": 3,
   "metadata": {},
   "outputs": [
    {
     "name": "stdout",
     "output_type": "stream",
     "text": [
      "BinaryTabularModels: dict_keys(['LogisticRegression', 'SGDClassifier'])\n"
     ]
    },
    {
     "ename": "ValueError",
     "evalue": "could not convert string to float: '1042_-1'",
     "output_type": "error",
     "traceback": [
      "\u001b[1;31m---------------------------------------------------------------------------\u001b[0m",
      "\u001b[1;31mValueError\u001b[0m                                Traceback (most recent call last)",
      "Cell \u001b[1;32mIn [3], line 5\u001b[0m\n\u001b[0;32m      1\u001b[0m flowml \u001b[39m=\u001b[39m FlowML(\n\u001b[0;32m      2\u001b[0m     task\u001b[39m=\u001b[39m\u001b[39m\"\u001b[39m\u001b[39mbinary\u001b[39m\u001b[39m\"\u001b[39m\n\u001b[0;32m      3\u001b[0m )\n\u001b[1;32m----> 5\u001b[0m flowml\u001b[39m.\u001b[39;49mfit(\n\u001b[0;32m      6\u001b[0m     train_df, \n\u001b[0;32m      7\u001b[0m     test_df,\n\u001b[0;32m      8\u001b[0m     label\u001b[39m=\u001b[39;49m\u001b[39m\"\u001b[39;49m\u001b[39mlabel\u001b[39;49m\u001b[39m\"\u001b[39;49m,\n\u001b[0;32m      9\u001b[0m )\n",
      "File \u001b[1;32md:\\dev\\proflow\\ProFlow\\examples\\..\\proflow\\automl\\tabular_tasks.py:23\u001b[0m, in \u001b[0;36mFlowML.fit\u001b[1;34m(self, train_df, test_df, label)\u001b[0m\n\u001b[0;32m     21\u001b[0m \u001b[39mif\u001b[39;00m \u001b[39mself\u001b[39m\u001b[39m.\u001b[39mtask \u001b[39m==\u001b[39m \u001b[39m\"\u001b[39m\u001b[39mbinary\u001b[39m\u001b[39m\"\u001b[39m:\n\u001b[0;32m     22\u001b[0m     btm \u001b[39m=\u001b[39m BinaryTabularModels()\n\u001b[1;32m---> 23\u001b[0m     fitted_binary_model \u001b[39m=\u001b[39m btm\u001b[39m.\u001b[39;49mfit(\n\u001b[0;32m     24\u001b[0m         train_df,\n\u001b[0;32m     25\u001b[0m         test_df,\n\u001b[0;32m     26\u001b[0m         label,\n\u001b[0;32m     27\u001b[0m     )\n\u001b[0;32m     28\u001b[0m     \u001b[39mself\u001b[39m\u001b[39m.\u001b[39mfitted_model \u001b[39m=\u001b[39m fitted_binary_model\n",
      "File \u001b[1;32md:\\dev\\proflow\\ProFlow\\examples\\..\\proflow\\model\\binary_tasks.py:65\u001b[0m, in \u001b[0;36mBinaryTabularModels.fit\u001b[1;34m(self, train_df, test_df, label)\u001b[0m\n\u001b[0;32m     58\u001b[0m \u001b[39mdef\u001b[39;00m \u001b[39mfit\u001b[39m(\n\u001b[0;32m     59\u001b[0m     \u001b[39mself\u001b[39m, \n\u001b[0;32m     60\u001b[0m     train_df: pd\u001b[39m.\u001b[39mDataFrame,\n\u001b[0;32m     61\u001b[0m     test_df: pd\u001b[39m.\u001b[39mDataFrame,\n\u001b[0;32m     62\u001b[0m     label: \u001b[39mstr\u001b[39m,\n\u001b[0;32m     63\u001b[0m ):\n\u001b[0;32m     64\u001b[0m     \u001b[39mfor\u001b[39;00m model \u001b[39min\u001b[39;00m [\u001b[39mself\u001b[39m\u001b[39m.\u001b[39mlr_model, \u001b[39mself\u001b[39m\u001b[39m.\u001b[39msgd_model]:\n\u001b[1;32m---> 65\u001b[0m         model\u001b[39m.\u001b[39;49mfit(\n\u001b[0;32m     66\u001b[0m             train_df\u001b[39m.\u001b[39;49mdrop([label], axis\u001b[39m=\u001b[39;49m\u001b[39m1\u001b[39;49m),\n\u001b[0;32m     67\u001b[0m             train_df[label],\n\u001b[0;32m     68\u001b[0m         )\n",
      "File \u001b[1;32md:\\dev\\envs\\proflow\\lib\\site-packages\\sklearn\\linear_model\\_logistic.py:1138\u001b[0m, in \u001b[0;36mLogisticRegression.fit\u001b[1;34m(self, X, y, sample_weight)\u001b[0m\n\u001b[0;32m   1135\u001b[0m \u001b[39melse\u001b[39;00m:\n\u001b[0;32m   1136\u001b[0m     _dtype \u001b[39m=\u001b[39m [np\u001b[39m.\u001b[39mfloat64, np\u001b[39m.\u001b[39mfloat32]\n\u001b[1;32m-> 1138\u001b[0m X, y \u001b[39m=\u001b[39m \u001b[39mself\u001b[39;49m\u001b[39m.\u001b[39;49m_validate_data(\n\u001b[0;32m   1139\u001b[0m     X,\n\u001b[0;32m   1140\u001b[0m     y,\n\u001b[0;32m   1141\u001b[0m     accept_sparse\u001b[39m=\u001b[39;49m\u001b[39m\"\u001b[39;49m\u001b[39mcsr\u001b[39;49m\u001b[39m\"\u001b[39;49m,\n\u001b[0;32m   1142\u001b[0m     dtype\u001b[39m=\u001b[39;49m_dtype,\n\u001b[0;32m   1143\u001b[0m     order\u001b[39m=\u001b[39;49m\u001b[39m\"\u001b[39;49m\u001b[39mC\u001b[39;49m\u001b[39m\"\u001b[39;49m,\n\u001b[0;32m   1144\u001b[0m     accept_large_sparse\u001b[39m=\u001b[39;49msolver \u001b[39mnot\u001b[39;49;00m \u001b[39min\u001b[39;49;00m [\u001b[39m\"\u001b[39;49m\u001b[39mliblinear\u001b[39;49m\u001b[39m\"\u001b[39;49m, \u001b[39m\"\u001b[39;49m\u001b[39msag\u001b[39;49m\u001b[39m\"\u001b[39;49m, \u001b[39m\"\u001b[39;49m\u001b[39msaga\u001b[39;49m\u001b[39m\"\u001b[39;49m],\n\u001b[0;32m   1145\u001b[0m )\n\u001b[0;32m   1146\u001b[0m check_classification_targets(y)\n\u001b[0;32m   1147\u001b[0m \u001b[39mself\u001b[39m\u001b[39m.\u001b[39mclasses_ \u001b[39m=\u001b[39m np\u001b[39m.\u001b[39munique(y)\n",
      "File \u001b[1;32md:\\dev\\envs\\proflow\\lib\\site-packages\\sklearn\\base.py:596\u001b[0m, in \u001b[0;36mBaseEstimator._validate_data\u001b[1;34m(self, X, y, reset, validate_separately, **check_params)\u001b[0m\n\u001b[0;32m    594\u001b[0m         y \u001b[39m=\u001b[39m check_array(y, input_name\u001b[39m=\u001b[39m\u001b[39m\"\u001b[39m\u001b[39my\u001b[39m\u001b[39m\"\u001b[39m, \u001b[39m*\u001b[39m\u001b[39m*\u001b[39mcheck_y_params)\n\u001b[0;32m    595\u001b[0m     \u001b[39melse\u001b[39;00m:\n\u001b[1;32m--> 596\u001b[0m         X, y \u001b[39m=\u001b[39m check_X_y(X, y, \u001b[39m*\u001b[39;49m\u001b[39m*\u001b[39;49mcheck_params)\n\u001b[0;32m    597\u001b[0m     out \u001b[39m=\u001b[39m X, y\n\u001b[0;32m    599\u001b[0m \u001b[39mif\u001b[39;00m \u001b[39mnot\u001b[39;00m no_val_X \u001b[39mand\u001b[39;00m check_params\u001b[39m.\u001b[39mget(\u001b[39m\"\u001b[39m\u001b[39mensure_2d\u001b[39m\u001b[39m\"\u001b[39m, \u001b[39mTrue\u001b[39;00m):\n",
      "File \u001b[1;32md:\\dev\\envs\\proflow\\lib\\site-packages\\sklearn\\utils\\validation.py:1074\u001b[0m, in \u001b[0;36mcheck_X_y\u001b[1;34m(X, y, accept_sparse, accept_large_sparse, dtype, order, copy, force_all_finite, ensure_2d, allow_nd, multi_output, ensure_min_samples, ensure_min_features, y_numeric, estimator)\u001b[0m\n\u001b[0;32m   1069\u001b[0m         estimator_name \u001b[39m=\u001b[39m _check_estimator_name(estimator)\n\u001b[0;32m   1070\u001b[0m     \u001b[39mraise\u001b[39;00m \u001b[39mValueError\u001b[39;00m(\n\u001b[0;32m   1071\u001b[0m         \u001b[39mf\u001b[39m\u001b[39m\"\u001b[39m\u001b[39m{\u001b[39;00mestimator_name\u001b[39m}\u001b[39;00m\u001b[39m requires y to be passed, but the target y is None\u001b[39m\u001b[39m\"\u001b[39m\n\u001b[0;32m   1072\u001b[0m     )\n\u001b[1;32m-> 1074\u001b[0m X \u001b[39m=\u001b[39m check_array(\n\u001b[0;32m   1075\u001b[0m     X,\n\u001b[0;32m   1076\u001b[0m     accept_sparse\u001b[39m=\u001b[39;49maccept_sparse,\n\u001b[0;32m   1077\u001b[0m     accept_large_sparse\u001b[39m=\u001b[39;49maccept_large_sparse,\n\u001b[0;32m   1078\u001b[0m     dtype\u001b[39m=\u001b[39;49mdtype,\n\u001b[0;32m   1079\u001b[0m     order\u001b[39m=\u001b[39;49morder,\n\u001b[0;32m   1080\u001b[0m     copy\u001b[39m=\u001b[39;49mcopy,\n\u001b[0;32m   1081\u001b[0m     force_all_finite\u001b[39m=\u001b[39;49mforce_all_finite,\n\u001b[0;32m   1082\u001b[0m     ensure_2d\u001b[39m=\u001b[39;49mensure_2d,\n\u001b[0;32m   1083\u001b[0m     allow_nd\u001b[39m=\u001b[39;49mallow_nd,\n\u001b[0;32m   1084\u001b[0m     ensure_min_samples\u001b[39m=\u001b[39;49mensure_min_samples,\n\u001b[0;32m   1085\u001b[0m     ensure_min_features\u001b[39m=\u001b[39;49mensure_min_features,\n\u001b[0;32m   1086\u001b[0m     estimator\u001b[39m=\u001b[39;49mestimator,\n\u001b[0;32m   1087\u001b[0m     input_name\u001b[39m=\u001b[39;49m\u001b[39m\"\u001b[39;49m\u001b[39mX\u001b[39;49m\u001b[39m\"\u001b[39;49m,\n\u001b[0;32m   1088\u001b[0m )\n\u001b[0;32m   1090\u001b[0m y \u001b[39m=\u001b[39m _check_y(y, multi_output\u001b[39m=\u001b[39mmulti_output, y_numeric\u001b[39m=\u001b[39my_numeric, estimator\u001b[39m=\u001b[39mestimator)\n\u001b[0;32m   1092\u001b[0m check_consistent_length(X, y)\n",
      "File \u001b[1;32md:\\dev\\envs\\proflow\\lib\\site-packages\\sklearn\\utils\\validation.py:856\u001b[0m, in \u001b[0;36mcheck_array\u001b[1;34m(array, accept_sparse, accept_large_sparse, dtype, order, copy, force_all_finite, ensure_2d, allow_nd, ensure_min_samples, ensure_min_features, estimator, input_name)\u001b[0m\n\u001b[0;32m    854\u001b[0m         array \u001b[39m=\u001b[39m array\u001b[39m.\u001b[39mastype(dtype, casting\u001b[39m=\u001b[39m\u001b[39m\"\u001b[39m\u001b[39munsafe\u001b[39m\u001b[39m\"\u001b[39m, copy\u001b[39m=\u001b[39m\u001b[39mFalse\u001b[39;00m)\n\u001b[0;32m    855\u001b[0m     \u001b[39melse\u001b[39;00m:\n\u001b[1;32m--> 856\u001b[0m         array \u001b[39m=\u001b[39m np\u001b[39m.\u001b[39;49masarray(array, order\u001b[39m=\u001b[39;49morder, dtype\u001b[39m=\u001b[39;49mdtype)\n\u001b[0;32m    857\u001b[0m \u001b[39mexcept\u001b[39;00m ComplexWarning \u001b[39mas\u001b[39;00m complex_warning:\n\u001b[0;32m    858\u001b[0m     \u001b[39mraise\u001b[39;00m \u001b[39mValueError\u001b[39;00m(\n\u001b[0;32m    859\u001b[0m         \u001b[39m\"\u001b[39m\u001b[39mComplex data not supported\u001b[39m\u001b[39m\\n\u001b[39;00m\u001b[39m{}\u001b[39;00m\u001b[39m\\n\u001b[39;00m\u001b[39m\"\u001b[39m\u001b[39m.\u001b[39mformat(array)\n\u001b[0;32m    860\u001b[0m     ) \u001b[39mfrom\u001b[39;00m \u001b[39mcomplex_warning\u001b[39;00m\n",
      "File \u001b[1;32md:\\dev\\envs\\proflow\\lib\\site-packages\\pandas\\core\\generic.py:2070\u001b[0m, in \u001b[0;36mNDFrame.__array__\u001b[1;34m(self, dtype)\u001b[0m\n\u001b[0;32m   2069\u001b[0m \u001b[39mdef\u001b[39;00m \u001b[39m__array__\u001b[39m(\u001b[39mself\u001b[39m, dtype: npt\u001b[39m.\u001b[39mDTypeLike \u001b[39m|\u001b[39m \u001b[39mNone\u001b[39;00m \u001b[39m=\u001b[39m \u001b[39mNone\u001b[39;00m) \u001b[39m-\u001b[39m\u001b[39m>\u001b[39m np\u001b[39m.\u001b[39mndarray:\n\u001b[1;32m-> 2070\u001b[0m     \u001b[39mreturn\u001b[39;00m np\u001b[39m.\u001b[39;49masarray(\u001b[39mself\u001b[39;49m\u001b[39m.\u001b[39;49m_values, dtype\u001b[39m=\u001b[39;49mdtype)\n",
      "\u001b[1;31mValueError\u001b[0m: could not convert string to float: '1042_-1'"
     ]
    }
   ],
   "source": [
    "flowml = FlowML(\n",
    "    task=\"binary\"\n",
    ")\n",
    "\n",
    "flowml.fit(\n",
    "    train_df, \n",
    "    test_df,\n",
    "    label=\"label\",\n",
    ")"
   ]
  },
  {
   "cell_type": "code",
   "execution_count": null,
   "metadata": {},
   "outputs": [],
   "source": []
  }
 ],
 "metadata": {
  "kernelspec": {
   "display_name": "Python 3.8.10 ('proflow')",
   "language": "python",
   "name": "python3"
  },
  "language_info": {
   "codemirror_mode": {
    "name": "ipython",
    "version": 3
   },
   "file_extension": ".py",
   "mimetype": "text/x-python",
   "name": "python",
   "nbconvert_exporter": "python",
   "pygments_lexer": "ipython3",
   "version": "3.8.10 (tags/v3.8.10:3d8993a, May  3 2021, 11:48:03) [MSC v.1928 64 bit (AMD64)]"
  },
  "orig_nbformat": 4,
  "vscode": {
   "interpreter": {
    "hash": "f09800b36e86f400344474c9fc13039b3f84a653ae5ce28f5eb90d985e520a95"
   }
  }
 },
 "nbformat": 4,
 "nbformat_minor": 2
}
