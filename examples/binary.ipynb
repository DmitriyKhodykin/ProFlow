{
 "cells": [
  {
   "cell_type": "markdown",
   "metadata": {},
   "source": [
    "# ProFlow: Бинарная классификация"
   ]
  },
  {
   "cell_type": "code",
   "execution_count": 1,
   "metadata": {},
   "outputs": [],
   "source": [
    "# Root directory input\n",
    "import sys\n",
    "sys.path.append('../')\n",
    "\n",
    "# Imports\n",
    "from proflow.data.data_loader import DataLoader\n",
    "from proflow.automl.tabular_tasks import FlowML\n",
    "\n",
    "from proflow.data.data_processor import DataProcessor\n",
    "\n",
    "%load_ext autoreload\n",
    "%autoreload 2"
   ]
  },
  {
   "cell_type": "markdown",
   "metadata": {},
   "source": [
    "## Load data"
   ]
  },
  {
   "cell_type": "code",
   "execution_count": 3,
   "metadata": {},
   "outputs": [
    {
     "name": "stdout",
     "output_type": "stream",
     "text": [
      "+-----------+-----------+-----------+\n",
      "| Partition | [0]_shape | [1]_shape |\n",
      "+-----------+-----------+-----------+\n",
      "|  train_df |   35000   |     29    |\n",
      "|  test_df  |   15000   |     29    |\n",
      "+-----------+-----------+-----------+\n",
      "              id oper_type + oper_attr index_oper  type  priority  \\\n",
      "1362754   501167               1041_-1     102971   Цех    7506.0   \n",
      "688902   8590643               1026_-1     102971   Цех    7506.0   \n",
      "2676261  7721019               1001_-1     420306   Цех    7503.0   \n",
      "1900458  7046430               1042_-1     630302   Цех    7503.0   \n",
      "2872218  9306014               1023_-1     102976  ММПО    7503.0   \n",
      "\n",
      "        is_privatecategory  class is_in_yandex is_return  weight  ...  \\\n",
      "1362754                  N    0.0            N         N    52.0  ...   \n",
      "688902                   N    0.0            N         N    41.0  ...   \n",
      "2676261                  N    0.0            Y         N    40.0  ...   \n",
      "1900458                  N    0.0            N         N   108.0  ...   \n",
      "2872218                  N    0.0            N         N    73.0  ...   \n",
      "\n",
      "         dist_qty_oper_login_1  total_qty_oper_login_1  \\\n",
      "1362754                  184.0              67541214.0   \n",
      "688902                   153.0              89268735.0   \n",
      "2676261                  207.0               1807909.0   \n",
      "1900458                  152.0              25083674.0   \n",
      "2872218                  972.0              68766046.0   \n",
      "\n",
      "         total_qty_oper_login_0  total_qty_over_index_and_type  \\\n",
      "1362754                  7870.0                     67549084.0   \n",
      "688902                6799759.0                     96068494.0   \n",
      "2676261                765251.0                      2573160.0   \n",
      "1900458                 33874.0                     25117548.0   \n",
      "2872218              91123247.0                    159889293.0   \n",
      "\n",
      "         total_qty_over_index  is_wrong_sndr_name is_wrong_rcpn_name  \\\n",
      "1362754            72981134.0                   0                  0   \n",
      "688902            101200378.0                   0                  0   \n",
      "2676261             9663413.0                   0                  0   \n",
      "1900458            82035345.0                   0                  0   \n",
      "2872218           164927295.0                   0                  0   \n",
      "\n",
      "         is_wrong_phone_number  is_wrong_address  label  \n",
      "1362754                      0                 0      0  \n",
      "688902                       1                 0      0  \n",
      "2676261                      0                 0      0  \n",
      "1900458                      1                 0      0  \n",
      "2872218                      1                 0      0  \n",
      "\n",
      "[5 rows x 29 columns]\n"
     ]
    }
   ],
   "source": [
    "loader = DataLoader(\n",
    "    df_dir=\"../../../datasets/pochta_rf/train_dataset.csv\",\n",
    "    dtype={\"index_oper\": \"str\"},\n",
    "    label=\"label\",\n",
    ")\n",
    "\n",
    "train_df, test_df = loader.data_load()"
   ]
  },
  {
   "cell_type": "markdown",
   "metadata": {},
   "source": [
    "## Prepare data"
   ]
  },
  {
   "cell_type": "code",
   "execution_count": 25,
   "metadata": {},
   "outputs": [
    {
     "name": "stdout",
     "output_type": "stream",
     "text": [
      "oper_type + oper_attr type: object\n",
      "index_oper type: object\n",
      "type type: object\n",
      "is_privatecategory type: object\n",
      "is_in_yandex type: object\n",
      "is_return type: object\n",
      "name_mfi type: object\n",
      "oper_type + oper_attr type: object\n",
      "index_oper type: object\n",
      "type type: object\n",
      "is_privatecategory type: object\n",
      "is_in_yandex type: object\n",
      "is_return type: object\n",
      "name_mfi type: object\n"
     ]
    }
   ],
   "source": [
    "# Data Processing\n",
    "train_pdp = DataProcessor(train_df)\n",
    "test_pdp = DataProcessor(test_df)\n",
    "\n",
    "train_df_prepared = train_pdp._text_cols_to_hashed_cols()\n",
    "test_df_prepared = test_pdp._text_cols_to_hashed_cols()"
   ]
  },
  {
   "cell_type": "code",
   "execution_count": 30,
   "metadata": {},
   "outputs": [
    {
     "name": "stdout",
     "output_type": "stream",
     "text": [
      "Train Shape: (35000, 29) Train Shape: (15000, 29)\n"
     ]
    }
   ],
   "source": [
    "print(\n",
    "    \"Train Shape:\", train_df_prepared.shape,\n",
    "    \"Train Shape:\", test_df_prepared.shape,\n",
    ")"
   ]
  },
  {
   "cell_type": "code",
   "execution_count": 28,
   "metadata": {},
   "outputs": [
    {
     "data": {
      "text/html": [
       "<div>\n",
       "<style scoped>\n",
       "    .dataframe tbody tr th:only-of-type {\n",
       "        vertical-align: middle;\n",
       "    }\n",
       "\n",
       "    .dataframe tbody tr th {\n",
       "        vertical-align: top;\n",
       "    }\n",
       "\n",
       "    .dataframe thead th {\n",
       "        text-align: right;\n",
       "    }\n",
       "</style>\n",
       "<table border=\"1\" class=\"dataframe\">\n",
       "  <thead>\n",
       "    <tr style=\"text-align: right;\">\n",
       "      <th></th>\n",
       "      <th>id</th>\n",
       "      <th>oper_type + oper_attr</th>\n",
       "      <th>index_oper</th>\n",
       "      <th>type</th>\n",
       "      <th>priority</th>\n",
       "      <th>is_privatecategory</th>\n",
       "      <th>class</th>\n",
       "      <th>is_in_yandex</th>\n",
       "      <th>is_return</th>\n",
       "      <th>weight</th>\n",
       "      <th>...</th>\n",
       "      <th>dist_qty_oper_login_1</th>\n",
       "      <th>total_qty_oper_login_1</th>\n",
       "      <th>total_qty_oper_login_0</th>\n",
       "      <th>total_qty_over_index_and_type</th>\n",
       "      <th>total_qty_over_index</th>\n",
       "      <th>is_wrong_sndr_name</th>\n",
       "      <th>is_wrong_rcpn_name</th>\n",
       "      <th>is_wrong_phone_number</th>\n",
       "      <th>is_wrong_address</th>\n",
       "      <th>label</th>\n",
       "    </tr>\n",
       "  </thead>\n",
       "  <tbody>\n",
       "    <tr>\n",
       "      <th>1362754</th>\n",
       "      <td>501167</td>\n",
       "      <td>32</td>\n",
       "      <td>34</td>\n",
       "      <td>57</td>\n",
       "      <td>7506.0</td>\n",
       "      <td>78</td>\n",
       "      <td>0.0</td>\n",
       "      <td>78</td>\n",
       "      <td>78</td>\n",
       "      <td>52.0</td>\n",
       "      <td>...</td>\n",
       "      <td>184.0</td>\n",
       "      <td>67541214.0</td>\n",
       "      <td>7870.0</td>\n",
       "      <td>67549084.0</td>\n",
       "      <td>72981134.0</td>\n",
       "      <td>0</td>\n",
       "      <td>0</td>\n",
       "      <td>0</td>\n",
       "      <td>0</td>\n",
       "      <td>0</td>\n",
       "    </tr>\n",
       "    <tr>\n",
       "      <th>688902</th>\n",
       "      <td>8590643</td>\n",
       "      <td>85</td>\n",
       "      <td>34</td>\n",
       "      <td>57</td>\n",
       "      <td>7506.0</td>\n",
       "      <td>78</td>\n",
       "      <td>0.0</td>\n",
       "      <td>78</td>\n",
       "      <td>78</td>\n",
       "      <td>41.0</td>\n",
       "      <td>...</td>\n",
       "      <td>153.0</td>\n",
       "      <td>89268735.0</td>\n",
       "      <td>6799759.0</td>\n",
       "      <td>96068494.0</td>\n",
       "      <td>101200378.0</td>\n",
       "      <td>0</td>\n",
       "      <td>0</td>\n",
       "      <td>1</td>\n",
       "      <td>0</td>\n",
       "      <td>0</td>\n",
       "    </tr>\n",
       "    <tr>\n",
       "      <th>2676261</th>\n",
       "      <td>7721019</td>\n",
       "      <td>26</td>\n",
       "      <td>27</td>\n",
       "      <td>57</td>\n",
       "      <td>7503.0</td>\n",
       "      <td>78</td>\n",
       "      <td>0.0</td>\n",
       "      <td>55</td>\n",
       "      <td>78</td>\n",
       "      <td>40.0</td>\n",
       "      <td>...</td>\n",
       "      <td>207.0</td>\n",
       "      <td>1807909.0</td>\n",
       "      <td>765251.0</td>\n",
       "      <td>2573160.0</td>\n",
       "      <td>9663413.0</td>\n",
       "      <td>0</td>\n",
       "      <td>0</td>\n",
       "      <td>0</td>\n",
       "      <td>0</td>\n",
       "      <td>0</td>\n",
       "    </tr>\n",
       "    <tr>\n",
       "      <th>1900458</th>\n",
       "      <td>7046430</td>\n",
       "      <td>29</td>\n",
       "      <td>65</td>\n",
       "      <td>57</td>\n",
       "      <td>7503.0</td>\n",
       "      <td>78</td>\n",
       "      <td>0.0</td>\n",
       "      <td>78</td>\n",
       "      <td>78</td>\n",
       "      <td>108.0</td>\n",
       "      <td>...</td>\n",
       "      <td>152.0</td>\n",
       "      <td>25083674.0</td>\n",
       "      <td>33874.0</td>\n",
       "      <td>25117548.0</td>\n",
       "      <td>82035345.0</td>\n",
       "      <td>0</td>\n",
       "      <td>0</td>\n",
       "      <td>1</td>\n",
       "      <td>0</td>\n",
       "      <td>0</td>\n",
       "    </tr>\n",
       "    <tr>\n",
       "      <th>2872218</th>\n",
       "      <td>9306014</td>\n",
       "      <td>80</td>\n",
       "      <td>54</td>\n",
       "      <td>33</td>\n",
       "      <td>7503.0</td>\n",
       "      <td>78</td>\n",
       "      <td>0.0</td>\n",
       "      <td>78</td>\n",
       "      <td>78</td>\n",
       "      <td>73.0</td>\n",
       "      <td>...</td>\n",
       "      <td>972.0</td>\n",
       "      <td>68766046.0</td>\n",
       "      <td>91123247.0</td>\n",
       "      <td>159889293.0</td>\n",
       "      <td>164927295.0</td>\n",
       "      <td>0</td>\n",
       "      <td>0</td>\n",
       "      <td>1</td>\n",
       "      <td>0</td>\n",
       "      <td>0</td>\n",
       "    </tr>\n",
       "  </tbody>\n",
       "</table>\n",
       "<p>5 rows × 29 columns</p>\n",
       "</div>"
      ],
      "text/plain": [
       "              id  oper_type + oper_attr  index_oper  type  priority  \\\n",
       "1362754   501167                     32          34    57    7506.0   \n",
       "688902   8590643                     85          34    57    7506.0   \n",
       "2676261  7721019                     26          27    57    7503.0   \n",
       "1900458  7046430                     29          65    57    7503.0   \n",
       "2872218  9306014                     80          54    33    7503.0   \n",
       "\n",
       "         is_privatecategory  class  is_in_yandex  is_return  weight  ...  \\\n",
       "1362754                  78    0.0            78         78    52.0  ...   \n",
       "688902                   78    0.0            78         78    41.0  ...   \n",
       "2676261                  78    0.0            55         78    40.0  ...   \n",
       "1900458                  78    0.0            78         78   108.0  ...   \n",
       "2872218                  78    0.0            78         78    73.0  ...   \n",
       "\n",
       "         dist_qty_oper_login_1  total_qty_oper_login_1  \\\n",
       "1362754                  184.0              67541214.0   \n",
       "688902                   153.0              89268735.0   \n",
       "2676261                  207.0               1807909.0   \n",
       "1900458                  152.0              25083674.0   \n",
       "2872218                  972.0              68766046.0   \n",
       "\n",
       "         total_qty_oper_login_0  total_qty_over_index_and_type  \\\n",
       "1362754                  7870.0                     67549084.0   \n",
       "688902                6799759.0                     96068494.0   \n",
       "2676261                765251.0                      2573160.0   \n",
       "1900458                 33874.0                     25117548.0   \n",
       "2872218              91123247.0                    159889293.0   \n",
       "\n",
       "         total_qty_over_index  is_wrong_sndr_name  is_wrong_rcpn_name  \\\n",
       "1362754            72981134.0                   0                   0   \n",
       "688902            101200378.0                   0                   0   \n",
       "2676261             9663413.0                   0                   0   \n",
       "1900458            82035345.0                   0                   0   \n",
       "2872218           164927295.0                   0                   0   \n",
       "\n",
       "         is_wrong_phone_number  is_wrong_address  label  \n",
       "1362754                      0                 0      0  \n",
       "688902                       1                 0      0  \n",
       "2676261                      0                 0      0  \n",
       "1900458                      1                 0      0  \n",
       "2872218                      1                 0      0  \n",
       "\n",
       "[5 rows x 29 columns]"
      ]
     },
     "execution_count": 28,
     "metadata": {},
     "output_type": "execute_result"
    }
   ],
   "source": [
    "train_df_prepared.head()"
   ]
  },
  {
   "cell_type": "markdown",
   "metadata": {},
   "source": [
    "## Fit model"
   ]
  },
  {
   "cell_type": "code",
   "execution_count": 34,
   "metadata": {},
   "outputs": [
    {
     "name": "stdout",
     "output_type": "stream",
     "text": [
      "BinaryTabularModels: dict_keys(['LogisticRegression', 'SGDClassifier'])\n"
     ]
    },
    {
     "ename": "TypeError",
     "evalue": "fit() missing 1 required positional argument: 'label'",
     "output_type": "error",
     "traceback": [
      "\u001b[1;31m---------------------------------------------------------------------------\u001b[0m",
      "\u001b[1;31mTypeError\u001b[0m                                 Traceback (most recent call last)",
      "Cell \u001b[1;32mIn [34], line 5\u001b[0m\n\u001b[0;32m      1\u001b[0m flowml \u001b[39m=\u001b[39m FlowML(\n\u001b[0;32m      2\u001b[0m     task\u001b[39m=\u001b[39m\u001b[39m\"\u001b[39m\u001b[39mbinary\u001b[39m\u001b[39m\"\u001b[39m\n\u001b[0;32m      3\u001b[0m )\n\u001b[1;32m----> 5\u001b[0m flowml\u001b[39m.\u001b[39;49mfit(\n\u001b[0;32m      6\u001b[0m     train_df_prepared, \n\u001b[0;32m      7\u001b[0m     \u001b[39m\"\u001b[39;49m\u001b[39mlabel\u001b[39;49m\u001b[39m\"\u001b[39;49m,\n\u001b[0;32m      8\u001b[0m )\n",
      "File \u001b[1;32md:\\dev\\proflow\\ProFlow\\examples\\..\\proflow\\automl\\tabular_tasks.py:22\u001b[0m, in \u001b[0;36mFlowML.fit\u001b[1;34m(self, train_df, label)\u001b[0m\n\u001b[0;32m     20\u001b[0m \u001b[39mif\u001b[39;00m \u001b[39mself\u001b[39m\u001b[39m.\u001b[39mtask \u001b[39m==\u001b[39m \u001b[39m\"\u001b[39m\u001b[39mbinary\u001b[39m\u001b[39m\"\u001b[39m:\n\u001b[0;32m     21\u001b[0m     btm \u001b[39m=\u001b[39m BinaryTabularModels()\n\u001b[1;32m---> 22\u001b[0m     fitted_binary_model \u001b[39m=\u001b[39m btm\u001b[39m.\u001b[39;49mfit(\n\u001b[0;32m     23\u001b[0m         train_df,\n\u001b[0;32m     24\u001b[0m         label,\n\u001b[0;32m     25\u001b[0m     )\n\u001b[0;32m     26\u001b[0m     \u001b[39mself\u001b[39m\u001b[39m.\u001b[39mfitted_model \u001b[39m=\u001b[39m fitted_binary_model\n",
      "\u001b[1;31mTypeError\u001b[0m: fit() missing 1 required positional argument: 'label'"
     ]
    }
   ],
   "source": [
    "flowml = FlowML(\n",
    "    task=\"binary\"\n",
    ")\n",
    "\n",
    "flowml.fit(\n",
    "    train_df_prepared, \n",
    "    \"label\",\n",
    ")"
   ]
  },
  {
   "cell_type": "code",
   "execution_count": null,
   "metadata": {},
   "outputs": [],
   "source": [
    "flowml.predict(\n",
    "    test_df,\n",
    ")"
   ]
  }
 ],
 "metadata": {
  "kernelspec": {
   "display_name": "Python 3.8.10 ('proflow')",
   "language": "python",
   "name": "python3"
  },
  "language_info": {
   "codemirror_mode": {
    "name": "ipython",
    "version": 3
   },
   "file_extension": ".py",
   "mimetype": "text/x-python",
   "name": "python",
   "nbconvert_exporter": "python",
   "pygments_lexer": "ipython3",
   "version": "3.8.10"
  },
  "orig_nbformat": 4,
  "vscode": {
   "interpreter": {
    "hash": "f09800b36e86f400344474c9fc13039b3f84a653ae5ce28f5eb90d985e520a95"
   }
  }
 },
 "nbformat": 4,
 "nbformat_minor": 2
}
