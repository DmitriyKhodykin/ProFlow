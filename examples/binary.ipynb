{
 "cells": [
  {
   "cell_type": "markdown",
   "metadata": {},
   "source": [
    "# ProFlow: Бинарная классификация"
   ]
  },
  {
   "cell_type": "code",
   "execution_count": 8,
   "metadata": {},
   "outputs": [
    {
     "name": "stdout",
     "output_type": "stream",
     "text": [
      "The autoreload extension is already loaded. To reload it, use:\n",
      "  %reload_ext autoreload\n"
     ]
    }
   ],
   "source": [
    "# Root directory input\n",
    "import sys\n",
    "sys.path.append('../')\n",
    "\n",
    "# Imports\n",
    "from proflow.data.data_loader import DataLoader\n",
    "from proflow.automl.tabular_tasks import FlowML\n",
    "\n",
    "%load_ext autoreload\n",
    "%autoreload 2"
   ]
  },
  {
   "cell_type": "code",
   "execution_count": 9,
   "metadata": {},
   "outputs": [
    {
     "name": "stdout",
     "output_type": "stream",
     "text": [
      "+-----------+-----------+-----------+\n",
      "| Partition | [0]_shape | [1]_shape |\n",
      "+-----------+-----------+-----------+\n",
      "|  train_df |   350000  |     29    |\n",
      "|  test_df  |   75000   |     29    |\n",
      "|  valid_df |   75000   |     29    |\n",
      "+-----------+-----------+-----------+\n",
      "             id oper_type + oper_attr index_oper     type  priority  \\\n",
      "490598  4663696                  0_-1     102976     ММПО    7503.0   \n",
      "110031  6693161                   8_0     102968       ТИ    7503.0   \n",
      "44939   5454518               1014_-1     102976     ММПО    7503.0   \n",
      "373254  8256533               1018_-1     426962  Участок    7503.0   \n",
      "480400  6705968               1043_-1     166970     АОПП    7503.0   \n",
      "\n",
      "       is_privatecategory  class is_in_yandex is_return  weight  ...  \\\n",
      "490598                  N    0.0            N         N   526.0  ...   \n",
      "110031                  N    0.0            N         N   254.0  ...   \n",
      "44939                   N    0.0            N         N    44.0  ...   \n",
      "373254                  N    0.0            Y         N    14.0  ...   \n",
      "480400                  N    0.0            N         N    53.0  ...   \n",
      "\n",
      "        dist_qty_oper_login_1  total_qty_oper_login_1  total_qty_oper_login_0  \\\n",
      "490598                  910.0              55549307.0              88774964.0   \n",
      "110031                   40.0               9560324.0               2169758.0   \n",
      "44939                   914.0              48856658.0              83318932.0   \n",
      "373254                   35.0               1452396.0                   980.0   \n",
      "480400                   16.0                 72281.0                  7258.0   \n",
      "\n",
      "        total_qty_over_index_and_type  total_qty_over_index  \\\n",
      "490598                    144324271.0           149073880.0   \n",
      "110031                     11730082.0            11979988.0   \n",
      "44939                     132175590.0           136819803.0   \n",
      "373254                      1453376.0            15499195.0   \n",
      "480400                        79539.0              802987.0   \n",
      "\n",
      "        is_wrong_sndr_name is_wrong_rcpn_name  is_wrong_phone_number  \\\n",
      "490598                   0                  0                      0   \n",
      "110031                   0                  0                      0   \n",
      "44939                    0                  0                      0   \n",
      "373254                   0                  0                      0   \n",
      "480400                   0                  0                      1   \n",
      "\n",
      "        is_wrong_address  label  \n",
      "490598                 0      0  \n",
      "110031                 0      0  \n",
      "44939                  0      0  \n",
      "373254                 0      0  \n",
      "480400                 0      0  \n",
      "\n",
      "[5 rows x 29 columns]\n"
     ]
    }
   ],
   "source": [
    "loader = DataLoader()\n",
    "train_df, test_df, valid_df = loader.data_load(\n",
    "    \"../../../datasets/pochta_rf/train_dataset.csv\",\n",
    "    split_partitions=3,\n",
    "    data_imputer=True,\n",
    ")"
   ]
  },
  {
   "cell_type": "code",
   "execution_count": 5,
   "metadata": {},
   "outputs": [],
   "source": [
    "flowml = FlowML(\n",
    "    task=\"binary\"\n",
    ")\n",
    "\n",
    "flowml.fit(\n",
    "    train_df, \n",
    "    test_df,\n",
    "    label=\"label\",\n",
    ")\n",
    "\n",
    "flowml.print_score()"
   ]
  },
  {
   "cell_type": "code",
   "execution_count": null,
   "metadata": {},
   "outputs": [],
   "source": []
  }
 ],
 "metadata": {
  "kernelspec": {
   "display_name": "Python 3.8.10 ('proflow')",
   "language": "python",
   "name": "python3"
  },
  "language_info": {
   "codemirror_mode": {
    "name": "ipython",
    "version": 3
   },
   "file_extension": ".py",
   "mimetype": "text/x-python",
   "name": "python",
   "nbconvert_exporter": "python",
   "pygments_lexer": "ipython3",
   "version": "3.8.10"
  },
  "orig_nbformat": 4,
  "vscode": {
   "interpreter": {
    "hash": "90c6e963d1e092433a518391a44b7b7e2dec7de09e75008281d1442fcc614848"
   }
  }
 },
 "nbformat": 4,
 "nbformat_minor": 2
}
