{
 "cells": [
  {
   "cell_type": "markdown",
   "metadata": {},
   "source": [
    "# ProFlow: Бинарная классификация"
   ]
  },
  {
   "cell_type": "code",
   "execution_count": 1,
   "metadata": {},
   "outputs": [],
   "source": [
    "# Root directory input\n",
    "import sys\n",
    "sys.path.append('../')\n",
    "\n",
    "# Imports\n",
    "from proflow.data.data_loader import DataLoader\n",
    "from proflow.automl.tabular_tasks import FlowML\n",
    "\n",
    "%load_ext autoreload\n",
    "%autoreload 2"
   ]
  },
  {
   "cell_type": "code",
   "execution_count": 7,
   "metadata": {},
   "outputs": [
    {
     "name": "stdout",
     "output_type": "stream",
     "text": [
      "+-----------+-----------+-----------+\n",
      "| Partition | [0]_shape | [1]_shape |\n",
      "+-----------+-----------+-----------+\n",
      "|  train_df |  4200000  |     29    |\n",
      "|  test_df  |   900000  |     29    |\n",
      "|  valid_df |   900000  |     29    |\n",
      "+-----------+-----------+-----------+\n",
      "              id oper_type + oper_attr index_oper     type  priority  \\\n",
      "4574803  3033968               1022_-1     102976     ММПО    7503.0   \n",
      "5753358  3456167                  1_-1     102971      Цех    7506.0   \n",
      "4470739  2116469               1023_-1     102976     ММПО    7503.0   \n",
      "3831522  6865310                  8_13     102976     ММПО    7503.0   \n",
      "415237   6149154               1042_-1     620984  Участок    7503.0   \n",
      "\n",
      "        is_privatecategory  class is_in_yandex is_return  weight  ...  \\\n",
      "4574803                  N    0.0            N         N    28.0  ...   \n",
      "5753358                  N    0.0            N         N    54.0  ...   \n",
      "4470739                  N    0.0            N         N   269.0  ...   \n",
      "3831522                  N    0.0            N         N   490.0  ...   \n",
      "415237                   N    0.0            N         N   161.0  ...   \n",
      "\n",
      "         dist_qty_oper_login_1  total_qty_oper_login_1  \\\n",
      "4574803                  914.0              48856658.0   \n",
      "5753358                  181.0              76138189.0   \n",
      "4470739                 1089.0              64270133.0   \n",
      "3831522                  921.0              56108204.0   \n",
      "415237                    27.0               9164121.0   \n",
      "\n",
      "         total_qty_oper_login_0  total_qty_over_index_and_type  \\\n",
      "4574803              83318932.0                    132175590.0   \n",
      "5753358                  8747.0                     76146936.0   \n",
      "4470739             116432632.0                    180702765.0   \n",
      "3831522             337771067.0                    393879271.0   \n",
      "415237                4770841.0                     13934962.0   \n",
      "\n",
      "         total_qty_over_index  is_wrong_sndr_name is_wrong_rcpn_name  \\\n",
      "4574803           136819803.0                   0                  0   \n",
      "5753358            84110459.0                   0                  1   \n",
      "4470739           188407812.0                   0                  0   \n",
      "3831522           403535080.0                   0                  1   \n",
      "415237             14030822.0                   0                  0   \n",
      "\n",
      "         is_wrong_phone_number  is_wrong_address  label  \n",
      "4574803                      0                 0      0  \n",
      "5753358                      0                 0      0  \n",
      "4470739                      0                 0      0  \n",
      "3831522                      0                 0      0  \n",
      "415237                       0                 0      0  \n",
      "\n",
      "[5 rows x 29 columns]\n"
     ]
    }
   ],
   "source": [
    "loader = DataLoader()\n",
    "train_df, test_df, valid_df = loader.data_load(\n",
    "    \"../../../datasets/pochta_rf/train_dataset.csv\"\n",
    ")"
   ]
  },
  {
   "cell_type": "code",
   "execution_count": 5,
   "metadata": {},
   "outputs": [],
   "source": [
    "flowml = FlowML()\n",
    "\n",
    "flowml.fit(\n",
    "    train_df, \n",
    "    test_df,\n",
    "    label=\"label\",\n",
    ")\n",
    "\n",
    "flowml.print_score()"
   ]
  },
  {
   "cell_type": "code",
   "execution_count": null,
   "metadata": {},
   "outputs": [],
   "source": []
  }
 ],
 "metadata": {
  "kernelspec": {
   "display_name": "Python 3.8.10 ('proflow')",
   "language": "python",
   "name": "python3"
  },
  "language_info": {
   "codemirror_mode": {
    "name": "ipython",
    "version": 3
   },
   "file_extension": ".py",
   "mimetype": "text/x-python",
   "name": "python",
   "nbconvert_exporter": "python",
   "pygments_lexer": "ipython3",
   "version": "3.8.10"
  },
  "orig_nbformat": 4,
  "vscode": {
   "interpreter": {
    "hash": "90c6e963d1e092433a518391a44b7b7e2dec7de09e75008281d1442fcc614848"
   }
  }
 },
 "nbformat": 4,
 "nbformat_minor": 2
}
